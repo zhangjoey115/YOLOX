{
 "cells": [
  {
   "cell_type": "code",
   "execution_count": 47,
   "id": "bea68183",
   "metadata": {},
   "outputs": [],
   "source": [
    "import onnx_graphsurgeon as gs\n",
    "import numpy as np\n",
    "import onnx\n",
    "import numpy as np"
   ]
  },
  {
   "cell_type": "code",
   "execution_count": 48,
   "id": "d0cdf740",
   "metadata": {},
   "outputs": [],
   "source": [
    "graph = gs.import_onnx(onnx.load(\"../YOLOX_outputs/tsr_tt100k_3_20220222/yolox_tt100k_nano3_640_200_1e-3_0p01_rm_unused_qat/best_qat_2.onnx\"))\n"
   ]
  },
  {
   "cell_type": "code",
   "execution_count": 49,
   "id": "a48efb71",
   "metadata": {},
   "outputs": [],
   "source": [
    "q1 = [node for node in graph.nodes if node.name == \"QuantizeLinear_2\"][0]\n",
    "dq1 = [node for node in graph.nodes if node.name == \"DequantizeLinear_5\"][0]"
   ]
  },
  {
   "cell_type": "code",
   "execution_count": 50,
   "id": "9a0a3f7a",
   "metadata": {},
   "outputs": [
    {
     "data": {
      "text/plain": [
       "QuantizeLinear_2 (QuantizeLinear)\n",
       "\tInputs: [\n",
       "\t\tVariable (images): (shape=[1, 3, 640, 640], dtype=float32)\n",
       "\t\tConstant (393): (shape=[], dtype=<class 'numpy.float32'>)\n",
       "\t\tConstant (394): (shape=[], dtype=<class 'numpy.int8'>)\n",
       "\t]\n",
       "\tOutputs: [\n",
       "\t\tVariable (395): (shape=[1, 3, 640, 640], dtype=int8)\n",
       "\t]"
      ]
     },
     "execution_count": 50,
     "metadata": {},
     "output_type": "execute_result"
    }
   ],
   "source": [
    "q1"
   ]
  },
  {
   "cell_type": "code",
   "execution_count": 51,
   "id": "986b32fe",
   "metadata": {},
   "outputs": [
    {
     "data": {
      "text/plain": [
       "DequantizeLinear_5 (DequantizeLinear)\n",
       "\tInputs: [\n",
       "\t\tVariable (395): (shape=[1, 3, 640, 640], dtype=int8)\n",
       "\t\tConstant (393): (shape=[], dtype=<class 'numpy.float32'>)\n",
       "\t\tConstant (397): (shape=[], dtype=<class 'numpy.int8'>)\n",
       "\t]\n",
       "\tOutputs: [\n",
       "\t\tVariable (398): (shape=[1, 3, 640, 640], dtype=float32)\n",
       "\t]"
      ]
     },
     "execution_count": 51,
     "metadata": {},
     "output_type": "execute_result"
    }
   ],
   "source": [
    "dq1"
   ]
  },
  {
   "cell_type": "code",
   "execution_count": 52,
   "id": "45e00811",
   "metadata": {},
   "outputs": [],
   "source": [
    "dq1.inputs[1].values = np.array(2.0074586868286133, dtype=np.float32)"
   ]
  },
  {
   "cell_type": "code",
   "execution_count": 53,
   "id": "c58e6b90",
   "metadata": {},
   "outputs": [],
   "source": [
    "q1.inputs[1].values = np.array(2.0074586868286133, dtype=np.float32)"
   ]
  },
  {
   "cell_type": "code",
   "execution_count": null,
   "id": "7d1ca671",
   "metadata": {},
   "outputs": [],
   "source": []
  },
  {
   "cell_type": "code",
   "execution_count": 54,
   "id": "a5a901c6",
   "metadata": {},
   "outputs": [],
   "source": [
    "onnx.save(gs.export_onnx(graph), \"/home/zjw/workspace/AI/tools/TensorRT_test/perception_linux_test_2112/bin/model/best_qat_modified.onnx\")"
   ]
  },
  {
   "cell_type": "code",
   "execution_count": 42,
   "id": "b469302e",
   "metadata": {},
   "outputs": [
    {
     "data": {
      "text/plain": [
       "array(1., dtype=float32)"
      ]
     },
     "execution_count": 42,
     "metadata": {},
     "output_type": "execute_result"
    }
   ],
   "source": [
    "a"
   ]
  },
  {
   "cell_type": "code",
   "execution_count": 43,
   "id": "610cf798",
   "metadata": {},
   "outputs": [
    {
     "data": {
      "text/plain": [
       "array(1., dtype=float32)"
      ]
     },
     "execution_count": 43,
     "metadata": {},
     "output_type": "execute_result"
    }
   ],
   "source": [
    "a"
   ]
  },
  {
   "cell_type": "code",
   "execution_count": null,
   "id": "a85dc902",
   "metadata": {},
   "outputs": [],
   "source": []
  }
 ],
 "metadata": {
  "kernelspec": {
   "display_name": "Python 3 (ipykernel)",
   "language": "python",
   "name": "python3"
  },
  "language_info": {
   "codemirror_mode": {
    "name": "ipython",
    "version": 3
   },
   "file_extension": ".py",
   "mimetype": "text/x-python",
   "name": "python",
   "nbconvert_exporter": "python",
   "pygments_lexer": "ipython3",
   "version": "3.7.12"
  }
 },
 "nbformat": 4,
 "nbformat_minor": 5
}
